{
 "cells": [
  {
   "cell_type": "markdown",
   "id": "9d399a5c",
   "metadata": {},
   "source": [
    "Basics of python"
   ]
  },
  {
   "cell_type": "code",
   "execution_count": null,
   "id": "3783db94",
   "metadata": {},
   "outputs": [
    {
     "name": "stdout",
     "output_type": "stream",
     "text": [
      "Name: Ranjith\n",
      "College: Vellore institute of technology\n",
      "python is powerful!\n"
     ]
    },
    {
     "name": "stdout",
     "output_type": "stream",
     "text": [
      "Name: Ranjith\n",
      "College: Vellore institute of technology\n",
      "python is powerful!\n"
     ]
    }
   ],
   "source": [
    "name = \"Ranjith\"\n",
    "college = \"Vellore institute of technology\"\n",
    "print(\"Name:\", name)\n",
    "print(\"College:\", college)\n",
    "print(\"python is powerful!\")"
   ]
  },
  {
   "cell_type": "code",
   "execution_count": null,
   "id": "8e4bbce4",
   "metadata": {},
   "outputs": [
    {
     "name": "stdout",
     "output_type": "stream",
     "text": [
      "Value: 30 | Type: <class 'int'>\n",
      "Value: 15.4 | Type: <class 'float'>\n",
      "Value: Hello python! | Type: <class 'str'>\n"
     ]
    }
   ],
   "source": [
    "my_int = 30\n",
    "my_float = 15.4\n",
    "my_string = \"Hello python!\"\n",
    "print(\"Value:\", my_int, \"| Type:\", type(my_int))\n",
    "print(\"Value:\", my_float, \"| Type:\", type(my_float))\n",
    "print(\"Value:\", my_string, \"| Type:\", type(my_string))"
   ]
  },
  {
   "cell_type": "code",
   "execution_count": null,
   "id": "b630d82e",
   "metadata": {},
   "outputs": [],
   "source": []
  },
  {
   "cell_type": "code",
   "execution_count": 1,
   "id": "91a60e3e",
   "metadata": {},
   "outputs": [
    {
     "name": "stdout",
     "output_type": "stream",
     "text": [
      "The sum is: 132.0\n",
      "The sub is: 18.0\n",
      "The divide is: 1.3157894736842106\n"
     ]
    }
   ],
   "source": [
    "num1 = float(input(\"Enter the first number: \"))\n",
    "num2 = float(input(\"Enter the second number: \"))\n",
    "\n",
    "total1 = num1 + num2\n",
    "total2 = num1 - num2\n",
    "total3 = num1 / num2\n",
    "\n",
    "print(\"The sum is:\", total1)\n",
    "print(\"The sub is:\", total2)\n",
    "print(\"The divide is:\", total3)"
   ]
  },
  {
   "cell_type": "code",
   "execution_count": 2,
   "id": "5db8d998",
   "metadata": {},
   "outputs": [
    {
     "name": "stdout",
     "output_type": "stream",
     "text": [
      "The number is positve.\n"
     ]
    }
   ],
   "source": [
    "num = float(input(\"Enter a number: \"))\n",
    "\n",
    "if num > 0:\n",
    "    print(\"The number is positve.\")\n",
    "elif num < 0:\n",
    "    print(\"The number is negative.\")\n",
    "else:\n",
    "    print(\"The number is Zero.\")\n",
    "\n"
   ]
  },
  {
   "cell_type": "code",
   "execution_count": 3,
   "id": "97919b9d",
   "metadata": {},
   "outputs": [
    {
     "name": "stdout",
     "output_type": "stream",
     "text": [
      "First fruit: orange\n",
      "last fruit: watermelon\n",
      "Updated fruit list: ['orange', 'mango', 'blueberry', 'Jackfruit', 'watermelon', 'pineapple']\n"
     ]
    }
   ],
   "source": [
    "fruits = [\"orange\", \"mango\", \"blueberry\", \"Jackfruit\", \"watermelon\"]\n",
    "\n",
    "print(\"First fruit:\", fruits[0])\n",
    "print(\"last fruit:\", fruits[-1])\n",
    "\n",
    "fruits.append(\"pineapple\")\n",
    "\n",
    "print(\"Updated fruit list:\", fruits)"
   ]
  },
  {
   "cell_type": "code",
   "execution_count": 4,
   "id": "5844bcf0",
   "metadata": {},
   "outputs": [
    {
     "name": "stdout",
     "output_type": "stream",
     "text": [
      "The number is even.\n"
     ]
    }
   ],
   "source": [
    "num = int(input(\"Enter a number: \"))\n",
    "\n",
    "if num % 2 == 0:\n",
    "    print(\"The number is even.\")\n",
    "else:\n",
    "    print(\"The number is odd.\")"
   ]
  },
  {
   "cell_type": "code",
   "execution_count": 6,
   "id": "675b03c7",
   "metadata": {},
   "outputs": [
    {
     "name": "stdout",
     "output_type": "stream",
     "text": [
      "Square of 1 is 1\n",
      "Square of 2 is 4\n",
      "Square of 3 is 9\n",
      "Square of 4 is 16\n",
      "Square of 5 is 25\n",
      "Square of 6 is 36\n",
      "Square of 7 is 49\n",
      "Square of 8 is 64\n",
      "Square of 9 is 81\n",
      "Square of 10 is 100\n"
     ]
    }
   ],
   "source": [
    "for i in range(1,11):\n",
    "    print(\"Square of\",i, \"is\", i**2 )"
   ]
  },
  {
   "cell_type": "code",
   "execution_count": null,
   "id": "79d12af7",
   "metadata": {},
   "outputs": [
    {
     "name": "stdout",
     "output_type": "stream",
     "text": [
      "10\n",
      "9\n",
      "8\n",
      "7\n",
      "6\n",
      "5\n",
      "4\n",
      "3\n",
      "2\n",
      "1\n"
     ]
    }
   ],
   "source": [
    "num = 10\n",
    "while num >= 1:\n",
    "    print(num)\n",
    "    num += 1"
   ]
  },
  {
   "cell_type": "code",
   "execution_count": 1,
   "id": "67152851",
   "metadata": {},
   "outputs": [
    {
     "name": "stdout",
     "output_type": "stream",
     "text": [
      "Access granted\n"
     ]
    }
   ],
   "source": [
    "password = input(\"Enter the password\")\n",
    "\n",
    "if password == \"Astro@123\":\n",
    "    print(\"Access granted\")\n",
    "else:\n",
    "    print(\"Access denied\")"
   ]
  },
  {
   "cell_type": "markdown",
   "id": "f9345f4b",
   "metadata": {},
   "source": [
    "Intermediate "
   ]
  },
  {
   "cell_type": "code",
   "execution_count": 4,
   "id": "385231bb",
   "metadata": {},
   "outputs": [
    {
     "name": "stdout",
     "output_type": "stream",
     "text": [
      "hello, Ranjith\n"
     ]
    }
   ],
   "source": [
    "def greet(name):\n",
    "    print(\"hello,\", name)\n",
    "\n",
    "greet(\"Ranjith\")\n",
    "\n",
    "\n"
   ]
  },
  {
   "cell_type": "code",
   "execution_count": 2,
   "id": "81085bff",
   "metadata": {},
   "outputs": [
    {
     "name": "stdout",
     "output_type": "stream",
     "text": [
      "Name: Ranjith\n",
      "Age: 22\n",
      "Field of study: Astrophysics\n"
     ]
    }
   ],
   "source": [
    "my_info = {\n",
    "    \"Name\": \"Ranjith\",\n",
    "    \"Age\": \"22\",\n",
    "    \"Field of study\": \"Astrophysics\"\n",
    "}   \n",
    "for key, value in my_info.items():\n",
    "    print(key + \":\", value)\n"
   ]
  },
  {
   "cell_type": "code",
   "execution_count": 3,
   "id": "3bdb9c68",
   "metadata": {},
   "outputs": [
    {
     "name": "stdout",
     "output_type": "stream",
     "text": [
      "The largest number is: 9.353190945984582e+29\n"
     ]
    }
   ],
   "source": [
    "num1 = float(input(\"Enter first number: \"))\n",
    "num2 = float(input(\"Enter second number: \"))\n",
    "num3 = float(input(\"Enter third number: \"))\n",
    "\n",
    "if num1 >= num2 and num1 >= num3:\n",
    "    print(\"The largest number is :\", num1)\n",
    "elif num2 >= num1  and num2>= num3:\n",
    "    print(\"The largest number is:\", num2)\n",
    "else:\n",
    "    print(\"The largest number is:\", num3)\n"
   ]
  },
  {
   "cell_type": "code",
   "execution_count": null,
   "id": "75d49700",
   "metadata": {},
   "outputs": [],
   "source": []
  }
 ],
 "metadata": {
  "kernelspec": {
   "display_name": "Python 3 (ipykernel)",
   "language": "python",
   "name": "python3"
  },
  "language_info": {
   "codemirror_mode": {
    "name": "ipython",
    "version": 3
   },
   "file_extension": ".py",
   "mimetype": "text/x-python",
   "name": "python",
   "nbconvert_exporter": "python",
   "pygments_lexer": "ipython3",
   "version": "3.12.3"
  }
 },
 "nbformat": 4,
 "nbformat_minor": 5
}
